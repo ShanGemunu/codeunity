{
  "nbformat": 4,
  "nbformat_minor": 0,
  "metadata": {
    "colab": {
      "name": "ProjectNewsAnalysis.ipynb",
      "provenance": [],
      "collapsed_sections": [],
      "authorship_tag": "ABX9TyNoXAN7Vv4k2jaHVJM00C+6",
      "include_colab_link": true
    },
    "kernelspec": {
      "name": "python3",
      "display_name": "Python 3"
    },
    "language_info": {
      "name": "python"
    }
  },
  "cells": [
    {
      "cell_type": "markdown",
      "metadata": {
        "id": "view-in-github",
        "colab_type": "text"
      },
      "source": [
        "<a href=\"https://colab.research.google.com/github/ShanGemunu/codeunity/blob/main/ProjectNewsAnalysis.ipynb\" target=\"_parent\"><img src=\"https://colab.research.google.com/assets/colab-badge.svg\" alt=\"Open In Colab\"/></a>"
      ]
    },
    {
      "cell_type": "code",
      "execution_count": null,
      "metadata": {
        "colab": {
          "base_uri": "https://localhost:8080/",
          "height": 134
        },
        "id": "MLvxKCfiXOw5",
        "outputId": "3e16f600-fb97-4dae-a155-ad009244958d"
      },
      "outputs": [
        {
          "output_type": "error",
          "ename": "SyntaxError",
          "evalue": "ignored",
          "traceback": [
            "\u001b[0;36m  File \u001b[0;32m\"<ipython-input-1-7d665e4722fa>\"\u001b[0;36m, line \u001b[0;32m33\u001b[0m\n\u001b[0;31m    def findImpactsExtended()\u001b[0m\n\u001b[0m                                     ^\u001b[0m\n\u001b[0;31mSyntaxError\u001b[0m\u001b[0;31m:\u001b[0m invalid syntax\n"
          ]
        }
      ],
      "source": [
        "#!pip install investpy\n",
        "#!pip install python-dateutil\n",
        "\n",
        "import pandas as pd\n",
        "import investpy\n",
        "\n",
        "from dateutil.parser import parse\n",
        "\n",
        "\n",
        "\n",
        "\n",
        "#df = pd.DataFrame(data) ejfh4ry43r3t\n",
        "\n",
        "invest = investpy.news.economic_calendar(time_zone=\"GMT +5:30\",to_date =\"10/06/2022\")\n",
        "\n",
        "#d0 = investpy.news.economic_calendar()\n",
        "\n",
        "print(invest)\n",
        "\n",
        "usdEvents = invest[invest.iloc[:, 4] == \"USD\"]  #USD Events       ,  note --- .iloc[:,3] -> all row, particular column \n",
        "\n",
        "print(usdEvents)   # this usdEvents is new dataframe, it is using usual indexs as 0,1,2,3,....\n",
        "\n",
        "eventGroups = [0]  # array of groups having five or more than five events\n",
        "\n",
        "allEventGroups = [0]   # array expanding eventGroups and having expanded event groups of five events\n",
        "\n",
        "allEventGroupsImpacts = [0]   #  array after checking allEventGroups with two and three impacts\n",
        "\n",
        "def findImpacts(usdEvents):      # to find events having 2 or 3 impacts\n",
        "  for x in range(0,len(usdEvents.index)):\n",
        "    if(usdEvents.iloc[x].importance==\"medium\" or usdEvents.iloc[x].importance==\"high\"):   # usdEvents.iloc[x] means object & importance is like attribute\n",
        "        print(usdEvents.iloc[[x],:])\n",
        "\n",
        "def findImpactsExtended():    #  to find groups of five events having at least one high imapct and other medium impacts\n",
        "  for x in range(1, len(allEventGroups)):\n",
        "    conditionTwoOrThree = True # condition to check two or three impacts\n",
        "    conditionThree = False  # condition to check three impacts\n",
        "       \n",
        "    for i in range(allEventGroups[x][0], allEventGroups[x][1]+1):\n",
        "      if((usdEvents.iloc[i].importance==\"medium\" or usdEvents.iloc[i].importance==\"high\")!):\n",
        "        conditionTwoOrThree = False\n",
        "        break \n",
        "\n",
        "    if(conditionTwoOrThree==True):\n",
        "      for i in range(allEventGroups[x][0], allEventGroups[x][1]+1):\n",
        "        if(usdEvents.iloc[i].importance==\"high\"):\n",
        "           conditionThree = True\n",
        "           break     \n",
        "    \n",
        "    if(conditionTwoOrThree == True and conditionThree == True):\n",
        "      allEventGroupsImpacts.append(allEventGroups[x])\n",
        "\n",
        "\n",
        "def findTimeRange():    # to find time range between two ancilarry events ,,,,, ex -> [2,3,8,9,15,16,16,17,,,]\n",
        "  \n",
        "def findFiveGroups(array_):    # to find groups having five or more than five events   ,,,,, [0,[],[]]\n",
        "  if(5 <= array_[0]-0):\n",
        "    eventGroups.append([0,array_[0]])\n",
        "\n",
        "  for x in range(0,len(array_)-2):\n",
        "    if(5 <= array_[x+1]-array_[x] ):\n",
        "        eventGroups.append([array_[x],array_[x+1]])\n",
        "  \n",
        "  if(5 <= (len(usdEvents.index)-1)-array_[len(array_)-1]):\n",
        "    eventGroups.append([array_[len(array_)-1],len(usdEvents.index)-1])\n",
        "\n",
        "def identifyAllFiveEvents(eventGrops):     #  to expand eventGroups array into more event five arrays\n",
        "    for x in range(1, len(eventGroups)):\n",
        "     for i in range(eventGroups[x][0], eventGroups[x][1]):\n",
        "       if((i+4)<=eventGroups[x][1]):\n",
        "         allEventGroups.append([i,i+4])    \n",
        "\n",
        "\n",
        "  \"\"\"\n",
        "array_01 = [[4,9],[0,5],[3,10]]\n",
        "\n",
        "for x in range(array_01[0][0], array_01[0][1]):\n",
        "  print(x) \n",
        "\n",
        "\n",
        "\"\"\"\n",
        "\n",
        "\n",
        "\n",
        "findImpacts(usdEvents)\n",
        "\n",
        "#print(type(usdEvents.iloc[1].currency))\n",
        "\n",
        "\n",
        "#print(usdEvents)   #c[c.iloc[:, 3] == 1]"
      ]
    },
    {
      "cell_type": "code",
      "source": [
        ""
      ],
      "metadata": {
        "id": "VbltB77mAJ-8"
      },
      "execution_count": null,
      "outputs": []
    }
  ]
}